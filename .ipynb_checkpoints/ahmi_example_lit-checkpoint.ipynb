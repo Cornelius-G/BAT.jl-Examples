{
 "cells": [
  {
   "cell_type": "markdown",
   "metadata": {},
   "source": [
    "# BAT.jl - AHMI Example"
   ]
  },
  {
   "cell_type": "code",
   "execution_count": 6,
   "metadata": {},
   "outputs": [],
   "source": [
    "using BAT, ValueShapes"
   ]
  },
  {
   "cell_type": "markdown",
   "metadata": {},
   "source": [
    "## Model definition to generate samples from a n-dim gaussian shell"
   ]
  },
  {
   "cell_type": "code",
   "execution_count": 7,
   "metadata": {},
   "outputs": [
    {
     "data": {
      "text/plain": [
       "BAT.HyperRectBounds{Float64}(BAT.HyperRectVolume{Float64}([-30.0, -30.0], [30.0, 30.0]), BAT.BoundsType[BAT.reflective_bounds, BAT.reflective_bounds])"
      ]
     },
     "execution_count": 7,
     "metadata": {},
     "output_type": "execute_result"
    }
   ],
   "source": [
    "struct GaussianShellDensity<:AbstractDensity\n",
    "    lambda::Vector{Float64}\n",
    "    r::Float64\n",
    "    sigma::Float64\n",
    "    dimensions::Int64\n",
    "end\n",
    "\n",
    "\n",
    "function BAT.density_logval(target::GaussianShellDensity, v::AbstractArray{Float64, 1})\n",
    "    diff::Float64 = 0\n",
    "    for i in eachindex(v)\n",
    "        diff += (target.lambda[i] - v[i]) * (target.lambda[i] - v[i])\n",
    "    end\n",
    "    diff = sqrt(diff)\n",
    "    expo::Float64 = exp(-(diff - target.r) * (diff - target.r) / (2 * target.sigma^2))\n",
    "    return log(1.0 / sqrt(2 * pi * target.sigma^2) * expo)\n",
    "end\n",
    "\n",
    "dim = 2\n",
    "model = GaussianShellDensity(zeros(dim), 5.0, 2.0, dim)\n",
    "\n",
    "#define boundaries\n",
    "lo_bounds = [-30.0 for i = 1:dim]\n",
    "hi_bounds = [ 30.0 for i = 1:dim]\n",
    "bounds = BAT.HyperRectBounds(lo_bounds, hi_bounds, BAT.reflective_bounds)"
   ]
  },
  {
   "cell_type": "markdown",
   "metadata": {},
   "source": [
    "## generate samples"
   ]
  },
  {
   "cell_type": "code",
   "execution_count": 8,
   "metadata": {},
   "outputs": [
    {
     "name": "stderr",
     "output_type": "stream",
     "text": [
      "┌ Info: Trying to generate 8 viable MCMC chain(s).\n",
      "└ @ BAT /home/cornelius/Projects/julia/BAT.jl/src/samplers/mcmc/mcmc_tuner.jl:193\n",
      "┌ Info: Selected 8 MCMC chain(s).\n",
      "└ @ BAT /home/cornelius/Projects/julia/BAT.jl/src/samplers/mcmc/mcmc_tuner.jl:304\n",
      "┌ Info: Begin tuning of 8 MCMC chain(s).\n",
      "└ @ BAT /home/cornelius/Projects/julia/BAT.jl/src/samplers/mcmc/mcmc_tuner.jl:65\n",
      "┌ Info: MCMC Tuning cycle 1 finished, 8 chains, 0 tuned, 8 converged.\n",
      "└ @ BAT /home/cornelius/Projects/julia/BAT.jl/src/samplers/mcmc/mcmc_tuner.jl:98\n",
      "┌ Info: MCMC Tuning cycle 2 finished, 8 chains, 8 tuned, 8 converged.\n",
      "└ @ BAT /home/cornelius/Projects/julia/BAT.jl/src/samplers/mcmc/mcmc_tuner.jl:98\n",
      "┌ Info: MCMC tuning of 8 chains successful after 2 cycle(s).\n",
      "└ @ BAT /home/cornelius/Projects/julia/BAT.jl/src/samplers/mcmc/mcmc_tuner.jl:102\n"
     ]
    }
   ],
   "source": [
    "algorithm = MetropolisHastings()\n",
    "n_chains = 8\n",
    "n_samples = 10^5\n",
    "\n",
    "bat_samples = bat_sample(PosteriorDensity(model, bounds), (10^5, 8), algorithm).result;"
   ]
  },
  {
   "cell_type": "markdown",
   "metadata": {},
   "source": [
    "## Harmonic Mean Integration\n",
    "True integral value for 2D Gaussian Shell I = 31.4411\n",
    "True integral value for 10D Gaussian Shell I = 1.1065e9"
   ]
  },
  {
   "cell_type": "code",
   "execution_count": 9,
   "metadata": {},
   "outputs": [
    {
     "name": "stderr",
     "output_type": "stream",
     "text": [
      "┌ Info: Harmonic Mean Integration started. Samples in dataset 1 / 2: \t400000 / 399999\tParameters:\t2\n",
      "└ @ BAT /home/cornelius/Projects/julia/BAT.jl/src/integration/ahmi/harmonic_mean_integration.jl:93\n",
      "┌ Info: Data Whitening.\n",
      "└ @ BAT /home/cornelius/Projects/julia/BAT.jl/src/integration/ahmi/harmonic_mean_integration.jl:108\n",
      "┌ Info: Apply Whitening Transformation to Data Set 2\n",
      "└ @ BAT /home/cornelius/Projects/julia/BAT.jl/src/integration/ahmi/harmonic_mean_integration.jl:117\n",
      "┌ Info: Create Space Partitioning Tree\n",
      "└ @ BAT /home/cornelius/Projects/julia/BAT.jl/src/integration/ahmi/harmonic_mean_integration.jl:129\n",
      "\u001b[32mProgress: 100%|█████████████████████████████████████████| Time: 0:00:00\u001b[39m\n",
      "┌ Info: Determine Hyperrectangle Starting Samples\n",
      "└ @ BAT /home/cornelius/Projects/julia/BAT.jl/src/integration/ahmi/harmonic_mean_integration.jl:145\n",
      "┌ Info: Determine Tolerances for Hyperrectangle Creation\n",
      "└ @ BAT /home/cornelius/Projects/julia/BAT.jl/src/integration/ahmi/harmonic_mean_integration.jl:165\n",
      "┌ Info: Create 149 Hyperrectangles using 1 thread(s)\n",
      "└ @ BAT /home/cornelius/Projects/julia/BAT.jl/src/integration/ahmi/hm_integration_rectangle.jl:9\n",
      "\u001b[32mProgress: 100%|█████████████████████████████████████████| Time: 0:00:04\u001b[39m\n",
      "┌ Info: Updating 149 Hyperrectangles using 1 thread(s)\n",
      "└ @ BAT /home/cornelius/Projects/julia/BAT.jl/src/integration/ahmi/hm_integration_rectangle.jl:27\n",
      "\u001b[32mProgress: 100%|█████████████████████████████████████████| Time: 0:00:00\u001b[39m\n",
      "┌ Info: Integrating 149 Hyperrectangles\n",
      "└ @ BAT /home/cornelius/Projects/julia/BAT.jl/src/integration/ahmi/harmonic_mean_integration.jl:384\n",
      "\u001b[32mProgress: 100%|█████████████████████████████████████████| Time: 0:00:02\u001b[39m\n",
      "┌ Info: Estimating Uncertainty (cov. weighted result)\n",
      "└ @ BAT /home/cornelius/Projects/julia/BAT.jl/src/integration/ahmi/harmonic_mean_integration.jl:59\n"
     ]
    },
    {
     "data": {
      "text/plain": [
       "Parameters: 2\tTotal Samples: 799999\n",
       "Data Set 1: 76 Volumes\n",
       "Data Set 2: 73 Volumes\n",
       "\n",
       "Integral Estimate (cov. weighted result):\n",
       "\t 31.4883  +-  0.041924\n"
      ]
     },
     "execution_count": 9,
     "metadata": {},
     "output_type": "execute_result"
    }
   ],
   "source": [
    "data = BAT.HMIData(bat_samples)\n",
    "BAT.hm_integrate!(data)"
   ]
  },
  {
   "cell_type": "markdown",
   "metadata": {},
   "source": [
    "## Plotting"
   ]
  },
  {
   "cell_type": "code",
   "execution_count": null,
   "metadata": {
    "scrolled": true
   },
   "outputs": [],
   "source": [
    "using Plots; pyplot()\n",
    "plot(data, rscale = 0.25)"
   ]
  },
  {
   "cell_type": "markdown",
   "metadata": {},
   "source": [
    "---\n",
    "\n",
    "*This notebook was generated using [Literate.jl](https://github.com/fredrikekre/Literate.jl).*"
   ]
  }
 ],
 "metadata": {
  "kernelspec": {
   "display_name": "Julia 1.3.1",
   "language": "julia",
   "name": "julia-1.3"
  },
  "language_info": {
   "file_extension": ".jl",
   "mimetype": "application/julia",
   "name": "julia",
   "version": "1.3.1"
  }
 },
 "nbformat": 4,
 "nbformat_minor": 3
}
